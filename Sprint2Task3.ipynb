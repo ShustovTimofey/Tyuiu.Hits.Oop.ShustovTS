{
 "cells": [
  {
   "cell_type": "markdown",
   "metadata": {},
   "source": [
    "<h1 style=\"color:DodgerBlue\">Индивидальный проект</h1>"
   ]
  },
  {
   "cell_type": "markdown",
   "metadata": {},
   "source": [
    "<h2 style=\"color:DodgerBlue\">Название проекта:</h2>\n",
    "\n",
    "----\n",
    "\n",
    "### Вариант задания \n",
    "Вариант номер 19"
   ]
  },
  {
   "cell_type": "markdown",
   "metadata": {},
   "source": [
    "<h2 style=\"color:DodgerBlue\">Описание проекта:</h2>\n",
    "\n",
    "----\n",
    "\n",
    "[ваш текст]\n",
    "\n",
    "#### Дополнительное задание\n",
    "Добавьте к сущестующим классам (базовыму и производным 3-4 атрибута и метода) и реализуйте простое, сложное и множественное наследование"
   ]
  },
  {
   "cell_type": "markdown",
   "metadata": {},
   "source": [
    "<h2 style=\"color:DodgerBlue\">Реализация:</h2>\n",
    "\n",
    "----"
   ]
  },
  {
   "cell_type": "markdown",
   "metadata": {},
   "source": [
    "Базовый класс Subscription Производный класс OnlineServiceSubscription\n",
    "Производный класс StreamingSubscription Производный класс VideoSubscription\n",
    "Пример реализации"
   ]
  },
  {
   "cell_type": "code",
   "execution_count": 1,
   "metadata": {
    "dotnet_interactive": {
     "language": "csharp"
    },
    "polyglot_notebook": {
     "kernelName": "csharp"
    }
   },
   "outputs": [],
   "source": [
    "\n",
    "\n",
    "public class Subscription\n",
    "{\n",
    "public int SubscriptionId { get; set; }\n",
    "public string ServiceName { get; set; }\n",
    "public decimal Cost { get; set; }\n",
    "public DateTime StartDate { get; set; }\n",
    "public DateTime EndDate { get; set; }\n",
    "\n",
    "public Subscription(int id, string name, decimal cost, DateTime start, DateTime end)\n",
    "{\n",
    "SubscriptionId = id;\n",
    "ServiceName = name;\n",
    "Cost = cost;\n",
    "StartDate = start;\n",
    "EndDate = end;\n",
    "}\n",
    "\n",
    "public virtual decimal CalculateMonthlyCost()\n",
    "{\n",
    "return Cost;\n",
    "}\n",
    "\n",
    "public virtual void ExtendSubscription(int months)\n",
    "{\n",
    "EndDate = EndDate.AddMonths(months);\n",
    "}\n",
    "\n",
    "public virtual string GetSubscriptionDetails()\n",
    "{\n",
    "return $\"ID: {SubscriptionId}, Service: {ServiceName}, Cost: {Cost:C}, Start: {StartDate.ToShortDateString()}, End: {EndDate.ToShortDateString()}\";\n",
    "}\n",
    "}\n",
    "public class OnlineServiceSubscription : Subscription\n",
    "{\n",
    "public int MaxUsers { get; set; }\n",
    "\n",
    "public OnlineServiceSubscription(int id, string name, decimal cost, DateTime start, DateTime end, int maxUsers)\n",
    ": base(id, name, cost, start, end)\n",
    "{\n",
    "MaxUsers = maxUsers;\n",
    "}\n",
    "\n",
    "public override decimal CalculateMonthlyCost()\n",
    "{\n",
    "return Cost * MaxUsers; // Учитываем количество пользователей\n",
    "}\n",
    "\n",
    "public override string GetSubscriptionDetails()\n",
    "{\n",
    "return base.GetSubscriptionDetails() + $\", Max Users: {MaxUsers}\";\n",
    "}\n",
    "}\n",
    "public class StreamingSubscription : Subscription\n",
    "{\n",
    "public int MaxStreams { get; set; }\n",
    "\n",
    "public StreamingSubscription(int id, string name, decimal cost, DateTime start, DateTime end, int maxStreams)\n",
    ": base(id, name, cost, start, end)\n",
    "{\n",
    "MaxStreams = maxStreams;\n",
    "}\n",
    "\n",
    "public override void ExtendSubscription(int months)\n",
    "{\n",
    "base.ExtendSubscription(months);\n",
    "// Добавляем специальное предложение при продлении\n",
    "Console.WriteLine($\"Special offer applied for extending the subscription by {months} months!\");\n",
    "}\n",
    "\n",
    "public override string GetSubscriptionDetails()\n",
    "{\n",
    "return base.GetSubscriptionDetails() + $\", Max Streams: {MaxStreams}\";\n",
    "}\n",
    "}\n",
    "public class VideoSubscription : Subscription\n",
    "{\n",
    "public string VideoQuality { get; set; }\n",
    "\n",
    "public VideoSubscription(int id, string name, decimal cost, DateTime start, DateTime end, string videoQuality)\n",
    ": base(id, name, cost, start, end)\n",
    "{\n",
    "VideoQuality = videoQuality;\n",
    "}\n",
    "\n",
    "public override string GetSubscriptionDetails()\n",
    "{\n",
    "return base.GetSubscriptionDetails() + $\", Video Quality: {VideoQuality}\";\n",
    "}\n",
    "}\n",
    "class Program\n",
    "{\n",
    "static void Main()\n",
    "{\n",
    "Subscription onlineSub = new OnlineServiceSubscription(1, \"Online Course\", 10.0m, DateTime.Now, DateTime.Now.AddMonths(1), 5);\n",
    "Subscription streamingSub = new StreamingSubscription(2, \"Streaming Service\", 15.0m, DateTime.Now, DateTime.Now.AddMonths(1), 3);\n",
    "Subscription videoSub = new VideoSubscription(3, \"Video Service\", 20.0m, DateTime.Now, DateTime.Now.AddMonths(1), \"HD\");\n",
    "\n",
    "Console.WriteLine(onlineSub.GetSubscriptionDetails());\n",
    "Console.WriteLine($\"Monthly Cost: {onlineSub.CalculateMonthlyCost():C}\");\n",
    "\n",
    "streamingSub.ExtendSubscription(2);\n",
    "Console.WriteLine(streamingSub.GetSubscriptionDetails());\n",
    "\n",
    "Console.WriteLine(videoSub.GetSubscriptionDetails());\n",
    "}\n",
    "}\n"
   ]
  },
  {
   "cell_type": "markdown",
   "metadata": {},
   "source": [
    " Базовый класс Subscription содержит основные атрибуты и методы для работы с подписками.\n",
    "Производные классы переопределяют методы базового класса для демонстрации полиморфизма и добавляют новые атрибуты:\n",
    "- OnlineServiceSubscription учитывает количество пользователей при расчете стоимости.\n",
    "- StreamingSubscription имеет специальное предложение при продлении подписки.\n",
    "- VideoSubscription добавляет информацию о качестве видео.\n",
    " В методе Main демонстрируется создание объектов и использование методов классов."
   ]
  }
 ],
 "metadata": {
  "kernelspec": {
   "display_name": ".NET (C#)",
   "language": "C#",
   "name": ".net-csharp"
  },
  "polyglot_notebook": {
   "kernelInfo": {
    "defaultKernelName": "csharp",
    "items": [
     {
      "aliases": [],
      "languageName": "csharp",
      "name": "csharp"
     }
    ]
   }
  }
 },
 "nbformat": 4,
 "nbformat_minor": 2
}
