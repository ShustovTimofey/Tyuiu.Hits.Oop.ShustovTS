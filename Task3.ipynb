{
 "cells": [
  {
   "cell_type": "markdown",
   "metadata": {},
   "source": [
    "<h1 style=\"color:DodgerBlue\">Индивидальный проект</h1>"
   ]
  },
  {
   "cell_type": "markdown",
   "metadata": {},
   "source": [
    "<h2 style=\"color:DodgerBlue\">Название проекта:</h2>\n",
    "\n",
    "----\n",
    "\n",
    "Вариант задания №19\n"
   ]
  },
  {
   "cell_type": "markdown",
   "metadata": {},
   "source": [
    "<h2 style=\"color:DodgerBlue\">Описание проекта:</h2>\n",
    "\n",
    "----\n",
    "ССоздать базовый класс Subscription в C#, который будет представлять подписки на\n",
    "различные услуги. На основе этого класса разработать 2-3 производных класса,\n",
    "демонстрирующих принципы наследования и полиморфизма. В каждом из классов\n",
    "должны быть реализованы новые атрибуты и методы, а также переопределены\n",
    "некоторые методы базового класса для демонстрации полиморфизма.\n",
    "Требования к базовому классу Subscription:\n",
    "• Атрибуты: ID подписки (SubscriptionId), Название услуги (ServiceName),\n",
    "Стоимость подписки (Cost).\n",
    "• Методы:\n",
    "o CalculateMonthlyCost(): метод для расчета ежемесячной стоимости\n",
    "подписки.\n",
    "o ExtendSubscription(): метод для продления подписки на\n",
    "дополнительный период.\n",
    "o GetSubscriptionDetails(): метод для получения деталей подписки.\n",
    "Требования к производным классам:\n",
    "1. ПодпискаНаОнлайнСервис (OnlineServiceSubscription): Должна содержать\n",
    "дополнительные атрибуты, такие как Количество доступных пользователей\n",
    "(MaxUsers). Метод CalculateMonthlyCost() должен быть переопределен для\n",
    "учета количества пользователей при расчете стоимости.\n",
    "2. ПодпискаНаСтreamинг (StreamingSubscription): Должна содержать\n",
    "дополнительные атрибуты, такие как Количество одновременных потоков\n",
    "(MaxStreams). Метод ExtendSubscription() должен быть переопределен для\n",
    "добавления специальных предложений для продления подписки.\n",
    "3. ПодпискаНаВидео(VideoSubscription) (если требуется третий класс): Должна\n",
    "содержать дополнительные атрибуты, такие как Качество видео\n",
    "(VideoQuality). Метод GetSubscriptionDetails() должен быть переопределен\n",
    "для отображения качества видео вместе с другими деталями подписки.\n",
    "\n",
    "#### Дополнительное задание\n",
    "Добавьте к сущестующим классам конструктора классов с использованием гетторов и сетторов и реализуйте взаимодействие объектов между собой"
   ]
  },
  {
   "cell_type": "markdown",
   "metadata": {},
   "source": [
    "<h2 style=\"color:DodgerBlue\">Реализация:</h2>\n",
    "\n",
    "----"
   ]
  },
  {
   "cell_type": "code",
   "execution_count": 1,
   "metadata": {
    "dotnet_interactive": {
     "language": "csharp"
    },
    "polyglot_notebook": {
     "kernelName": "csharp"
    }
   },
   "outputs": [],
   "source": [
    "using System;\n",
    "\n",
    "public class Subscription\n",
    "{\n",
    "public int SubscriptionId { get; set; }\n",
    "public string ServiceName { get; set; }\n",
    "public decimal Cost { get; set; }\n",
    "\n",
    "public Subscription(int subscriptionId, string serviceName, decimal cost)\n",
    "{\n",
    "SubscriptionId = subscriptionId;\n",
    "ServiceName = serviceName;\n",
    "Cost = cost;\n",
    "}\n",
    "\n",
    "public virtual decimal CalculateMonthlyCost()\n",
    "{\n",
    "return Cost;\n",
    "}\n",
    "\n",
    "public virtual void ExtendSubscription(int months)\n",
    "{\n",
    "Console.WriteLine($\"Subscription '{ServiceName}' extended by {months} months.\");\n",
    "}\n",
    "\n",
    "public virtual string GetSubscriptionDetails()\n",
    "{\n",
    "return $\"ID: {SubscriptionId}, Service: {ServiceName}, Cost: {Cost:C}\";\n",
    "}\n",
    "}\n",
    "\n",
    "public class OnlineServiceSubscription : Subscription\n",
    "{\n",
    "public int MaxUsers { get; set; }\n",
    "\n",
    "public OnlineServiceSubscription(int subscriptionId, string serviceName, decimal cost, int maxUsers)\n",
    ": base(subscriptionId, serviceName, cost)\n",
    "{\n",
    "MaxUsers = maxUsers;\n",
    "}\n",
    "\n",
    "public override decimal CalculateMonthlyCost()\n",
    "{\n",
    "// Пример расчета стоимости на основе количества пользователей\n",
    "return Cost * MaxUsers;\n",
    "}\n",
    "\n",
    "public override string GetSubscriptionDetails()\n",
    "{\n",
    "return base.GetSubscriptionDetails() + $\", Max Users: {MaxUsers}\";\n",
    "}\n",
    "}\n",
    "\n",
    "public class StreamingSubscription : Subscription\n",
    "{\n",
    "public int MaxStreams { get; set; }\n",
    "\n",
    "public StreamingSubscription(int subscriptionId, string serviceName, decimal cost, int maxStreams)\n",
    ": base(subscriptionId, serviceName, cost)\n",
    "{\n",
    "MaxStreams = maxStreams;\n",
    "}\n",
    "\n",
    "public override void ExtendSubscription(int months)\n",
    "{\n",
    "Console.WriteLine($\"Streaming subscription '{ServiceName}' extended by {months} months with a special offer!\");\n",
    "}\n",
    "\n",
    "public override string GetSubscriptionDetails()\n",
    "{\n",
    "return base.GetSubscriptionDetails() + $\", Max Streams: {MaxStreams}\";\n",
    "}\n",
    "}\n",
    "\n",
    "public class VideoSubscription : Subscription\n",
    "{\n",
    "public string VideoQuality { get; set; }\n",
    "\n",
    "public VideoSubscription(int subscriptionId, string serviceName, decimal cost, string videoQuality)\n",
    ": base(subscriptionId, serviceName, cost)\n",
    "{\n",
    "VideoQuality = videoQuality;\n",
    "}\n",
    "\n",
    "public override string GetSubscriptionDetails()\n",
    "{\n",
    "return base.GetSubscriptionDetails() + $\", Video Quality: {VideoQuality}\";\n",
    "}\n",
    "}\n",
    "\n",
    "class Program\n",
    "{\n",
    "static void Main(string[] args)\n",
    "{\n",
    "Subscription onlineService = new OnlineServiceSubscription(1, \"Online Learning\", 10.0m, 5);\n",
    "Subscription streamingService = new StreamingSubscription(2, \"Movie Streaming\", 15.0m, 3);\n",
    "Subscription videoService = new VideoSubscription(3, \"Video on Demand\", 20.0m, \"4K\");\n",
    "\n",
    "Console.WriteLine(onlineService.GetSubscriptionDetails());\n",
    "Console.WriteLine($\"Monthly Cost: {onlineService.CalculateMonthlyCost():C}\");\n",
    "\n",
    "onlineService.ExtendSubscription(6);\n",
    "\n",
    "Console.WriteLine(streamingService.GetSubscriptionDetails());\n",
    "streamingService.ExtendSubscription(12);\n",
    "\n",
    "Console.WriteLine(videoService.GetSubscriptionDetails());\n",
    "\n",
    "// Полиморфизм в действии\n",
    "Subscription[] subscriptions = { onlineService, streamingService, videoService };\n",
    "\n",
    "foreach (var subscription in subscriptions)\n",
    "{\n",
    "Console.WriteLine($\"{subscription.ServiceName} - Monthly Cost: {subscription.CalculateMonthlyCost():C}\");\n",
    "}\n",
    "}\n",
    "}"
   ]
  },
  {
   "cell_type": "markdown",
   "metadata": {},
   "source": [
    "1. Базовый класс Subscription:\n",
    "- Содержит атрибуты SubscriptionId, ServiceName, Cost.\n",
    "- Методы для расчета стоимости, продления подписки и получения деталей подписки.\n",
    "\n",
    "2. Производные классы:\n",
    "- OnlineServiceSubscription: Добавляет атрибут MaxUsers и переопределяет метод CalculateMonthlyCost.\n",
    "- StreamingSubscription: Добавляет атрибут MaxStreams и переопределяет метод ExtendSubscription.\n",
    "- VideoSubscription: Добавляет атрибут VideoQuality и переопределяет метод GetSubscriptionDetails.\n",
    "\n",
    "3. Программа: Создает экземпляры подписок и демонстрирует полиморфизм путем вызова методов на разных типах подписок."
   ]
  }
 ],
 "metadata": {
  "kernelspec": {
   "display_name": ".NET (C#)",
   "language": "C#",
   "name": ".net-csharp"
  },
  "polyglot_notebook": {
   "kernelInfo": {
    "defaultKernelName": "csharp",
    "items": [
     {
      "aliases": [],
      "languageName": "csharp",
      "name": "csharp"
     }
    ]
   }
  }
 },
 "nbformat": 4,
 "nbformat_minor": 2
}
