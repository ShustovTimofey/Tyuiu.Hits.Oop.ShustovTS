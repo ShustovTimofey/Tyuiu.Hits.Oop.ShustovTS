{
 "cells": [
  {
   "cell_type": "markdown",
   "metadata": {},
   "source": [
    "<h1 style=\"color:DodgerBlue\">Индивидальный проект</h1>"
   ]
  },
  {
   "cell_type": "markdown",
   "metadata": {},
   "source": [
    "<h2 style=\"color:DodgerBlue\">Название проекта:</h2>\n",
    "\n",
    "----\n",
    "\n",
    "### Вариант задания \n"
   ]
  },
  {
   "cell_type": "markdown",
   "metadata": {},
   "source": [
    "<h2 style=\"color:DodgerBlue\">Описание проекта:</h2>\n",
    "\n",
    "----\n",
    "\n",
    "[ваш текст]\n",
    "\n",
    "#### Дополнительное задание\n",
    "Добавьте к сущестующим классам (базовыму и производным 3-4 атрибута и метода) и реализуйте полиморфизм с перекрытием и прегегрузкой методов, а также generic классы"
   ]
  },
  {
   "cell_type": "markdown",
   "metadata": {},
   "source": [
    "<h2 style=\"color:DodgerBlue\">Реализация:</h2>\n",
    "\n",
    "----"
   ]
  },
  {
   "cell_type": "code",
   "execution_count": null,
   "metadata": {
    "dotnet_interactive": {
     "language": "csharp"
    },
    "polyglot_notebook": {
     "kernelName": "csharp"
    }
   },
   "outputs": [],
   "source": [
    "public class Subscription\n",
    "{\n",
    "public int SubscriptionId { get; set; }\n",
    "public string ServiceName { get; set; }\n",
    "public decimal Cost { get; set; }\n",
    "\n",
    "public virtual decimal CalculateMonthlyCost()\n",
    "{\n",
    "return Cost;\n",
    "}\n",
    "\n",
    "public virtual void ExtendSubscription(int months)\n",
    "{\n",
    "// Логика продления подписки\n",
    "}\n",
    "\n",
    "public virtual string GetSubscriptionDetails()\n",
    "{\n",
    "return $\"ID: {SubscriptionId}, Service: {ServiceName}, Cost: {Cost}\";\n",
    "}\n",
    "}\n",
    "\n",
    "public class OnlineServiceSubscription : Subscription\n",
    "{\n",
    "public int MaxUsers { get; set; }\n",
    "\n",
    "public override decimal CalculateMonthlyCost()\n",
    "{\n",
    "return Cost * MaxUsers; // Учёт количества пользователей\n",
    "}\n",
    "\n",
    "public override void ExtendSubscription(int months)\n",
    "{\n",
    "// Логика продления с учетом специального условия\n",
    "}\n",
    "\n",
    "public override string GetSubscriptionDetails()\n",
    "{\n",
    "return base.GetSubscriptionDetails() + $\", Max Users: {MaxUsers}\";\n",
    "}\n",
    "}\n",
    "\n",
    "public class StreamingSubscription : Subscription\n",
    "{\n",
    "public int MaxStreams { get; set; }\n",
    "\n",
    "public override void ExtendSubscription(int months)\n",
    "{\n",
    "// Например, предоставление скидки при продлении\n",
    "}\n",
    "}\n",
    "\n",
    "public class VideoSubscription : Subscription\n",
    "{\n",
    "public string VideoQuality { get; set; }\n",
    "\n",
    "public override string GetSubscriptionDetails()\n",
    "{\n",
    "return base.GetSubscriptionDetails() + $\", Video Quality: {VideoQuality}\";\n",
    "}\n",
    "}\n",
    "\n",
    "// Дополнительный атрибут и метод\n",
    "public class PremiumSubscription : Subscription\n",
    "{\n",
    "public string Benefits { get; set; }\n",
    "\n",
    "public override string GetSubscriptionDetails()\n",
    "{\n",
    "return base.GetSubscriptionDetails() + $\", Benefits: {Benefits}\";\n",
    "}\n",
    "\n",
    "public void UpgradeSubscription()\n",
    "{\n",
    "// Логика для повышения уровня подписки\n",
    "}\n",
    "}\n",
    "\n",
    "// Пример generic класса\n",
    "public class SubscriptionManager<T> where T : Subscription\n",
    "{\n",
    "public void AddSubscription(T subscription)\n",
    "{\n",
    "// Логика добавления подписки\n",
    "}\n",
    "\n",
    "public void ShowSubscriptionDetails(T subscription)\n",
    "{\n",
    "Console.WriteLine(subscription.GetSubscriptionDetails());\n",
    "}\n",
    "}"
   ]
  }
 ],
 "metadata": {
  "kernelspec": {
   "display_name": ".NET (C#)",
   "language": "C#",
   "name": ".net-csharp"
  },
  "polyglot_notebook": {
   "kernelInfo": {
    "defaultKernelName": "csharp",
    "items": [
     {
      "aliases": [],
      "languageName": "csharp",
      "name": "csharp"
     }
    ]
   }
  }
 },
 "nbformat": 4,
 "nbformat_minor": 2
}
